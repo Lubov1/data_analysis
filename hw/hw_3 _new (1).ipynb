{
 "cells": [
  {
   "cell_type": "code",
   "execution_count": 3,
   "metadata": {},
   "outputs": [],
   "source": [
    "import requests\n",
    "import json\n",
    "from lxml import etree, html as lhtml\n",
    "from bs4 import BeautifulSoup\n",
    "import pandas as pd\n",
    "from itertools import chain\n",
    "from multiprocessing import Pool, Lock, Value\n",
    "from time import sleep"
   ]
  },
  {
   "cell_type": "code",
   "execution_count": 4,
   "metadata": {},
   "outputs": [],
   "source": [
    "authors = [9150,\n",
    "59396,\n",
    "28727,\n",
    "53427,\n",
    "26268,\n",
    "16626,\n",
    "28927,\n",
    "37969,\n",
    "104832]"
   ]
  },
  {
   "cell_type": "code",
   "execution_count": 5,
   "metadata": {},
   "outputs": [],
   "source": [
    "mutex = Lock()\n",
    "n_processed = Value('i', 0)\n",
    "\n",
    "def func(author_id):\n",
    "    all_books_id = []\n",
    "    cur_page = 1\n",
    "    while(1):\n",
    "        for t in range(5):\n",
    "                html_21 = requests.get(\"https://www.moscowbooks.ru/catalog/author/{0}/?page={1}\".format(author_id,cur_page))\n",
    "                if html_21.status_code==200:\n",
    "                    break\n",
    "        if html_21.status_code!=200:\n",
    "            break\n",
    "        film_html = html_21.text\n",
    "        tree = lhtml.fromstring(film_html)\n",
    "        soup = BeautifulSoup(film_html, 'html.parser')\n",
    "        soup = BeautifulSoup(film_html, 'lxml')\n",
    "        elms = soup.select(\"div.book-preview__cover a\")\n",
    "        for i in elms:\n",
    "            all_books_id.append(i.attrs[\"href\"])\n",
    "        if not elms:\n",
    "            break\n",
    "        cur_page = cur_page + 1\n",
    "    return all_books_id\n",
    "\n",
    "def func_wrapper(uid):\n",
    "    res = func(uid) \n",
    "    with mutex:\n",
    "        # в этом блоке можно безопасно менять общие объекты для процессов\n",
    "        global n_processed\n",
    "        n_processed.value += 1\n",
    "        if n_processed.value % 10 == 0:\n",
    "            print(f\"\\r{n_processed.value} objects are processed...\", end='', flush=True)\n",
    "    return res\n",
    "\n",
    "with Pool(processes=10) as pool:\n",
    "    all_books_id = pool.map(func_wrapper, authors)"
   ]
  },
  {
   "cell_type": "code",
   "execution_count": 6,
   "metadata": {},
   "outputs": [],
   "source": [
    "all_books_id = list(chain.from_iterable(list(all_books_id)))"
   ]
  },
  {
   "cell_type": "code",
   "execution_count": 7,
   "metadata": {},
   "outputs": [],
   "source": [
    "def func1(book_id, n_attempts=5):\n",
    "    dict_book = {}\n",
    "\n",
    "    for t in range(n_attempts):\n",
    "        html_21 = requests.get('https://www.moscowbooks.ru{}'.format(book_id))\n",
    "        if html_21.status_code == 200:\n",
    "            break\n",
    "    if html_21.status_code!=200:\n",
    "            return {}\n",
    "    book_html = html_21.text\n",
    "    tree = lhtml.fromstring(book_html)\n",
    "    soup = BeautifulSoup(book_html, 'html.parser')\n",
    "    soup = BeautifulSoup(book_html, 'lxml')\n",
    "#      код товара\n",
    "    # таблица\n",
    "    elms = soup.select(\"dt.book__details-value a\")\n",
    "    w1 = [i.text.strip()[:-1] for i in soup.select(\"dt.book__details-name\")]\n",
    "    w2 = [i.text.strip() for i in soup.select(\"dt.book__details-value\")]\n",
    "    dict_book['Код товара'] = w2[w1.index('Код товара')]\n",
    "    # автор\n",
    "    elms = soup.select(\"div.page-header__author a\")\n",
    "    author = [i.text for i in elms]\n",
    "    dict_book[\"Автор\"] = ';'.join(author)\n",
    "    # название\n",
    "    elms = soup.select(\"div.book__rating\")\n",
    "    elms = soup.find(\"span\",{\"class\":\"link-gray-light\"})\n",
    "    dict_book[\"Название\"] = elms.text\n",
    "    # наличие\n",
    "    elms = soup.select(\"span.instock1\")\n",
    "    if not elms:\n",
    "        dict_book[\"Наличие\"] = False\n",
    "    else:\n",
    "        dict_book[\"Наличие\"] = bool(elms[0].text.rfind(\"В наличии\"))\n",
    "\n",
    "    # описание\n",
    "    el  = soup.find(\"div\",{'class':\"book__description collapsed js-book-description\"})\n",
    "    t1 = el.b.text\n",
    "    description = el.text\n",
    "    description = description.replace(t1,'').strip('\\n').rstrip('\\s').replace(\"Читать дальше…\",'')\n",
    "    dict_book[\"Описание\"] = description[:description.rfind('.') + 1]\n",
    "    \n",
    "    # рейтинг\n",
    "    div = soup.find('div',{'class':\"book__rating\"})\n",
    "    dict_book[\"Рейтинг\"] = div.div.attrs['data-rate']\n",
    "    # обложка\n",
    "    elms = soup.select(\"div.book__cover a\")\n",
    "    dict_book[\"Обложка\"] = \"https://www.moscowbooks.ru\" + elms[0].attrs[\"href\"]\n",
    "\n",
    "    # стикеры\n",
    "    stick = []\n",
    "    div = soup.find('div',{'class':\"book__stickers stickers stickers_lg\"})\n",
    "    if not div is None:\n",
    "        stick = div.text.split('\\n')\n",
    "        if not div.span is None:\n",
    "            stick.append(div.span.get('title'))\n",
    "        stick2 = [i for i in stick if i is not '']\n",
    "        if stick2:\n",
    "            dict_book[\"Стикеры\"] = ';'.join(stick2)\n",
    "\n",
    "    # таблица\n",
    "    dict_book.update(dict(zip(w1, w2)))\n",
    "    # id\n",
    "    book = book_id.split('/')\n",
    "    dict_book[\"ID\"] = book[-2]\n",
    "#     цена\n",
    "    div = soup.find('div',{'class':\"book__price\"})\n",
    "    price = div.text.replace('\\n','').replace('\\r','').replace('\\s','').strip()\n",
    "    dict_book[\"Цена\"] = price\n",
    "    return dict_book\n"
   ]
  },
  {
   "cell_type": "code",
   "execution_count": 8,
   "metadata": {},
   "outputs": [
    {
     "name": "stdout",
     "output_type": "stream",
     "text": [
      "190 objects are processed..."
     ]
    }
   ],
   "source": [
    "mutex = Lock()\n",
    "n_processed = Value('i', 0)\n",
    "\n",
    "\n",
    "def func_wrapper(uid):\n",
    "    res = func1(uid) \n",
    "    with mutex:\n",
    "        # в этом блоке можно безопасно менять общие объекты для процессов\n",
    "        global n_processed\n",
    "        n_processed.value += 1\n",
    "        if n_processed.value % 10 == 0:\n",
    "            print(f\"\\r{n_processed.value} objects are processed...\", end='', flush=True)\n",
    "    return res\n",
    "\n",
    "with Pool(processes=10) as pool:\n",
    "    res = pool.map(func_wrapper, all_books_id)"
   ]
  },
  {
   "cell_type": "code",
   "execution_count": 9,
   "metadata": {},
   "outputs": [],
   "source": [
    "\n",
    "df = pd.DataFrame(res)\n",
    "df.sort_values(by=['ID'], inplace=True)\n",
    "\n",
    "with open('hw_3.csv', mode='w', encoding='utf-8') as f_csv:\n",
    "    df.to_csv(f_csv, index=False)"
   ]
  },
  {
   "cell_type": "code",
   "execution_count": null,
   "metadata": {},
   "outputs": [],
   "source": []
  }
 ],
 "metadata": {
  "kernelspec": {
   "display_name": "Python 3",
   "language": "python",
   "name": "python3"
  },
  "language_info": {
   "codemirror_mode": {
    "name": "ipython",
    "version": 3
   },
   "file_extension": ".py",
   "mimetype": "text/x-python",
   "name": "python",
   "nbconvert_exporter": "python",
   "pygments_lexer": "ipython3",
   "version": "3.7.6"
  }
 },
 "nbformat": 4,
 "nbformat_minor": 2
}
